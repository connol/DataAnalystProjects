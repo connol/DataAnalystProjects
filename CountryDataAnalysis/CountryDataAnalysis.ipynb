{
 "cells": [
  {
   "cell_type": "code",
   "execution_count": 1,
   "id": "9a51e07f",
   "metadata": {},
   "outputs": [],
   "source": [
    "import numpy as np\n",
    "import pandas as pd\n",
    "import matplotlib.pyplot as plt\n",
    "import scipy.stats as stats\n",
    "import seaborn as sns"
   ]
  },
  {
   "cell_type": "code",
   "execution_count": 2,
   "id": "c0357aec",
   "metadata": {},
   "outputs": [],
   "source": [
    "data= pd.read_csv('factbook.csv',sep=';', index_col = 'Country' )"
   ]
  },
  {
   "cell_type": "code",
   "execution_count": 3,
   "id": "81e2a7d0",
   "metadata": {
    "scrolled": true
   },
   "outputs": [],
   "source": [
    "#clear out empty data\n",
    "data=data.fillna(0)\n",
    "data = data[data.iloc[:,3] != 0]\n",
    "data = data[data.iloc[:,-1] != 0]\n",
    "data = data.drop('String')"
   ]
  },
  {
   "cell_type": "code",
   "execution_count": 4,
   "id": "69c83531",
   "metadata": {},
   "outputs": [
    {
     "data": {
      "text/html": [
       "<div>\n",
       "<style scoped>\n",
       "    .dataframe tbody tr th:only-of-type {\n",
       "        vertical-align: middle;\n",
       "    }\n",
       "\n",
       "    .dataframe tbody tr th {\n",
       "        vertical-align: top;\n",
       "    }\n",
       "\n",
       "    .dataframe thead th {\n",
       "        text-align: right;\n",
       "    }\n",
       "</style>\n",
       "<table border=\"1\" class=\"dataframe\">\n",
       "  <thead>\n",
       "    <tr style=\"text-align: right;\">\n",
       "      <th></th>\n",
       "      <th>Area(sq km)</th>\n",
       "      <th>Birth rate(births/1000 population)</th>\n",
       "      <th>Current account balance</th>\n",
       "      <th>Death rate(deaths/1000 population)</th>\n",
       "      <th>Debt - external</th>\n",
       "      <th>Electricity - consumption(kWh)</th>\n",
       "      <th>Electricity - production(kWh)</th>\n",
       "      <th>Exports</th>\n",
       "      <th>GDP</th>\n",
       "      <th>GDP - per capita</th>\n",
       "      <th>...</th>\n",
       "      <th>Oil - production(bbl/day)</th>\n",
       "      <th>Oil - proved reserves(bbl)</th>\n",
       "      <th>Population</th>\n",
       "      <th>Public debt(% of GDP)</th>\n",
       "      <th>Railways(km)</th>\n",
       "      <th>Reserves of foreign exchange &amp; gold</th>\n",
       "      <th>Telephones - main lines in use</th>\n",
       "      <th>Telephones - mobile cellular</th>\n",
       "      <th>Total fertility rate(children born/woman)</th>\n",
       "      <th>Unemployment rate(%)</th>\n",
       "    </tr>\n",
       "    <tr>\n",
       "      <th>Country</th>\n",
       "      <th></th>\n",
       "      <th></th>\n",
       "      <th></th>\n",
       "      <th></th>\n",
       "      <th></th>\n",
       "      <th></th>\n",
       "      <th></th>\n",
       "      <th></th>\n",
       "      <th></th>\n",
       "      <th></th>\n",
       "      <th></th>\n",
       "      <th></th>\n",
       "      <th></th>\n",
       "      <th></th>\n",
       "      <th></th>\n",
       "      <th></th>\n",
       "      <th></th>\n",
       "      <th></th>\n",
       "      <th></th>\n",
       "      <th></th>\n",
       "      <th></th>\n",
       "    </tr>\n",
       "  </thead>\n",
       "  <tbody>\n",
       "    <tr>\n",
       "      <th>Albania</th>\n",
       "      <td>28748</td>\n",
       "      <td>15.08</td>\n",
       "      <td>-504000000</td>\n",
       "      <td>5.12</td>\n",
       "      <td>1410000000</td>\n",
       "      <td>6760000000</td>\n",
       "      <td>5680000000</td>\n",
       "      <td>552400000</td>\n",
       "      <td>17460000000</td>\n",
       "      <td>4900</td>\n",
       "      <td>...</td>\n",
       "      <td>2000</td>\n",
       "      <td>185500000</td>\n",
       "      <td>3563112</td>\n",
       "      <td>0</td>\n",
       "      <td>447</td>\n",
       "      <td>1206000000</td>\n",
       "      <td>255000</td>\n",
       "      <td>1100000</td>\n",
       "      <td>2.04</td>\n",
       "      <td>14.80</td>\n",
       "    </tr>\n",
       "    <tr>\n",
       "      <th>Algeria</th>\n",
       "      <td>2381740</td>\n",
       "      <td>17.13</td>\n",
       "      <td>11900000000</td>\n",
       "      <td>4.60</td>\n",
       "      <td>21900000000</td>\n",
       "      <td>23610000000</td>\n",
       "      <td>25760000000</td>\n",
       "      <td>32160000000</td>\n",
       "      <td>212300000000</td>\n",
       "      <td>6600</td>\n",
       "      <td>...</td>\n",
       "      <td>1200000</td>\n",
       "      <td>11870000000</td>\n",
       "      <td>32531853</td>\n",
       "      <td>37.40</td>\n",
       "      <td>3973</td>\n",
       "      <td>43550000000</td>\n",
       "      <td>2199600</td>\n",
       "      <td>1447310</td>\n",
       "      <td>1.92</td>\n",
       "      <td>25.40</td>\n",
       "    </tr>\n",
       "    <tr>\n",
       "      <th>American Samoa</th>\n",
       "      <td>199</td>\n",
       "      <td>23.13</td>\n",
       "      <td>0</td>\n",
       "      <td>3.33</td>\n",
       "      <td>0</td>\n",
       "      <td>120900000</td>\n",
       "      <td>130000000</td>\n",
       "      <td>30000000</td>\n",
       "      <td>500000000</td>\n",
       "      <td>8000</td>\n",
       "      <td>...</td>\n",
       "      <td>0</td>\n",
       "      <td>0</td>\n",
       "      <td>57881</td>\n",
       "      <td>0</td>\n",
       "      <td>0</td>\n",
       "      <td>0</td>\n",
       "      <td>15000</td>\n",
       "      <td>2377</td>\n",
       "      <td>3.25</td>\n",
       "      <td>6.00</td>\n",
       "    </tr>\n",
       "    <tr>\n",
       "      <th>Andorra</th>\n",
       "      <td>468</td>\n",
       "      <td>9.00</td>\n",
       "      <td>0</td>\n",
       "      <td>6.07</td>\n",
       "      <td>0</td>\n",
       "      <td>0</td>\n",
       "      <td>0</td>\n",
       "      <td>58000000</td>\n",
       "      <td>1900000000</td>\n",
       "      <td>26800</td>\n",
       "      <td>...</td>\n",
       "      <td>0</td>\n",
       "      <td>0</td>\n",
       "      <td>70549</td>\n",
       "      <td>0</td>\n",
       "      <td>0</td>\n",
       "      <td>0</td>\n",
       "      <td>35000</td>\n",
       "      <td>23500</td>\n",
       "      <td>1.29</td>\n",
       "      <td>0.00</td>\n",
       "    </tr>\n",
       "    <tr>\n",
       "      <th>Anguilla</th>\n",
       "      <td>102</td>\n",
       "      <td>14.26</td>\n",
       "      <td>0</td>\n",
       "      <td>5.43</td>\n",
       "      <td>8800000</td>\n",
       "      <td>42600000</td>\n",
       "      <td>0</td>\n",
       "      <td>2600000</td>\n",
       "      <td>112000000</td>\n",
       "      <td>7500</td>\n",
       "      <td>...</td>\n",
       "      <td>0</td>\n",
       "      <td>0</td>\n",
       "      <td>13254</td>\n",
       "      <td>0</td>\n",
       "      <td>0</td>\n",
       "      <td>0</td>\n",
       "      <td>6200</td>\n",
       "      <td>1800</td>\n",
       "      <td>1.73</td>\n",
       "      <td>8.00</td>\n",
       "    </tr>\n",
       "  </tbody>\n",
       "</table>\n",
       "<p>5 rows × 44 columns</p>\n",
       "</div>"
      ],
      "text/plain": [
       "               Area(sq km) Birth rate(births/1000 population)  \\\n",
       "Country                                                         \n",
       "Albania              28748                              15.08   \n",
       "Algeria            2381740                              17.13   \n",
       "American Samoa         199                              23.13   \n",
       "Andorra                468                               9.00   \n",
       "Anguilla               102                              14.26   \n",
       "\n",
       "               Current account balance Death rate(deaths/1000 population)  \\\n",
       "Country                                                                     \n",
       "Albania                     -504000000                               5.12   \n",
       "Algeria                    11900000000                               4.60   \n",
       "American Samoa                       0                               3.33   \n",
       "Andorra                              0                               6.07   \n",
       "Anguilla                             0                               5.43   \n",
       "\n",
       "               Debt - external Electricity - consumption(kWh)  \\\n",
       "Country                                                         \n",
       "Albania             1410000000                     6760000000   \n",
       "Algeria            21900000000                    23610000000   \n",
       "American Samoa               0                      120900000   \n",
       "Andorra                      0                              0   \n",
       "Anguilla               8800000                       42600000   \n",
       "\n",
       "               Electricity - production(kWh)      Exports           GDP  \\\n",
       "Country                                                                   \n",
       "Albania                           5680000000    552400000   17460000000   \n",
       "Algeria                          25760000000  32160000000  212300000000   \n",
       "American Samoa                     130000000     30000000     500000000   \n",
       "Andorra                                    0     58000000    1900000000   \n",
       "Anguilla                                   0      2600000     112000000   \n",
       "\n",
       "               GDP - per capita  ... Oil - production(bbl/day)  \\\n",
       "Country                          ...                             \n",
       "Albania                    4900  ...                      2000   \n",
       "Algeria                    6600  ...                   1200000   \n",
       "American Samoa             8000  ...                         0   \n",
       "Andorra                   26800  ...                         0   \n",
       "Anguilla                   7500  ...                         0   \n",
       "\n",
       "               Oil - proved reserves(bbl) Population Public debt(% of GDP)  \\\n",
       "Country                                                                      \n",
       "Albania                         185500000    3563112                     0   \n",
       "Algeria                       11870000000   32531853                 37.40   \n",
       "American Samoa                          0      57881                     0   \n",
       "Andorra                                 0      70549                     0   \n",
       "Anguilla                                0      13254                     0   \n",
       "\n",
       "               Railways(km) Reserves of foreign exchange & gold  \\\n",
       "Country                                                           \n",
       "Albania                 447                          1206000000   \n",
       "Algeria                3973                         43550000000   \n",
       "American Samoa            0                                   0   \n",
       "Andorra                   0                                   0   \n",
       "Anguilla                  0                                   0   \n",
       "\n",
       "               Telephones - main lines in use Telephones - mobile cellular  \\\n",
       "Country                                                                      \n",
       "Albania                                255000                      1100000   \n",
       "Algeria                               2199600                      1447310   \n",
       "American Samoa                          15000                         2377   \n",
       "Andorra                                 35000                        23500   \n",
       "Anguilla                                 6200                         1800   \n",
       "\n",
       "               Total fertility rate(children born/woman) Unemployment rate(%)  \n",
       "Country                                                                        \n",
       "Albania                                             2.04                14.80  \n",
       "Algeria                                             1.92                25.40  \n",
       "American Samoa                                      3.25                 6.00  \n",
       "Andorra                                             1.29                 0.00  \n",
       "Anguilla                                            1.73                 8.00  \n",
       "\n",
       "[5 rows x 44 columns]"
      ]
     },
     "execution_count": 4,
     "metadata": {},
     "output_type": "execute_result"
    }
   ],
   "source": [
    "data.head()"
   ]
  },
  {
   "cell_type": "code",
   "execution_count": 5,
   "id": "27e6cdca",
   "metadata": {},
   "outputs": [],
   "source": [
    "#Grab wanted data and convert to float type\n",
    "y=pd.Series(data.iloc[:,3])\n",
    "x=pd.Series(data.iloc[:,-1])\n",
    "x=x.astype(float,copy=True)\n",
    "y=y.astype(float,copy=True)"
   ]
  },
  {
   "cell_type": "code",
   "execution_count": 6,
   "id": "24b356d0",
   "metadata": {},
   "outputs": [
    {
     "data": {
      "text/plain": [
       "Text(0.5, 1.0, 'Scatter of Unemployment and DeathRate')"
      ]
     },
     "execution_count": 6,
     "metadata": {},
     "output_type": "execute_result"
    },
    {
     "data": {
      "image/png": "[encoded data removed]",
      "text/plain": [
       "<Figure size 432x288 with 1 Axes>"
      ]
     },
     "metadata": {
      "needs_background": "light"
     },
     "output_type": "display_data"
    }
   ],
   "source": [
    "#plot data\n",
    "sc=plt.figure()\n",
    "plt.figure(sc)\n",
    "plt.scatter(x.values,y.values,color='blue')\n",
    "plt.xlabel('Unemployment rate%')\n",
    "plt.ylabel('Death rate')\n",
    "plt.title('Scatter of Unemployment and DeathRate')\n"
   ]
  },
  {
   "cell_type": "code",
   "execution_count": 7,
   "id": "8123d438",
   "metadata": {},
   "outputs": [],
   "source": [
    "m,b = np.polyfit(x,y,1)"
   ]
  },
  {
   "cell_type": "code",
   "execution_count": 8,
   "id": "17dc05eb",
   "metadata": {},
   "outputs": [
    {
     "data": {
      "text/plain": [
       "[<matplotlib.lines.Line2D at 0x1d84391ad00>]"
      ]
     },
     "execution_count": 8,
     "metadata": {},
     "output_type": "execute_result"
    },
    {
     "data": {
      "image/png": "[encoded data removed]",
      "text/plain": [
       "<Figure size 432x288 with 1 Axes>"
      ]
     },
     "metadata": {
      "needs_background": "light"
     },
     "output_type": "display_data"
    }
   ],
   "source": [
    "plt.figure(sc)\n",
    "plt.plot(x.values,m*x.values+b,color='red')\n"
   ]
  },
  {
   "cell_type": "markdown",
   "id": "b933192d",
   "metadata": {},
   "source": [
    "### Comment\n",
    "After plotting line of best fit it there appears to be a slight positive correlation between umemployment and deathrate. However, the Scatter plot apperas to have some outliers that could be affecting the data. To narrow in on the more dense portion of the data taking the range of 0-25 for both variables might help with a conclusion. "
   ]
  },
  {
   "cell_type": "code",
   "execution_count": 9,
   "id": "7af62aa4",
   "metadata": {},
   "outputs": [],
   "source": [
    "co=pd.DataFrame(x.values,y.values)\n"
   ]
  },
  {
   "cell_type": "code",
   "execution_count": 10,
   "id": "bb7b2a21",
   "metadata": {},
   "outputs": [
    {
     "data": {
      "text/plain": [
       "array([[1.        , 0.29613889],\n",
       "       [0.29613889, 1.        ]])"
      ]
     },
     "execution_count": 10,
     "metadata": {},
     "output_type": "execute_result"
    }
   ],
   "source": [
    "correlation =np.corrcoef(x.values,y.values)\n",
    "correlation\n",
    "#slight correlation can be seen in the array below"
   ]
  },
  {
   "cell_type": "code",
   "execution_count": 11,
   "id": "f132242f",
   "metadata": {},
   "outputs": [],
   "source": [
    "#creating new dataFrame to narrow the data\n",
    "ndata = pd.DataFrame(data, copy=True)"
   ]
  },
  {
   "cell_type": "code",
   "execution_count": 12,
   "id": "6e9e153a",
   "metadata": {},
   "outputs": [],
   "source": [
    "ndata=ndata.astype({'Birth rate(births/1000 population)':float})"
   ]
  },
  {
   "cell_type": "code",
   "execution_count": 13,
   "id": "732e97b1",
   "metadata": {},
   "outputs": [],
   "source": [
    "#Changing data type to be able to make compairson\n",
    "ndata=ndata.astype({'Death rate(deaths/1000 population)':float})\n",
    "ndata=ndata.astype({'Unemployment rate(%)':float})"
   ]
  },
  {
   "cell_type": "code",
   "execution_count": 14,
   "id": "c2affccc",
   "metadata": {},
   "outputs": [],
   "source": [
    "xx=pd.Series(ndata[ndata.iloc[:,-1] < 25 ].iloc[:,-1])\n",
    "yy=pd.Series(ndata[ndata.iloc[:,3] < 25].iloc[:,3])"
   ]
  },
  {
   "cell_type": "code",
   "execution_count": 15,
   "id": "9c5b5fd6",
   "metadata": {},
   "outputs": [],
   "source": [
    "df = pd.DataFrame(yy,xx)"
   ]
  },
  {
   "cell_type": "code",
   "execution_count": 16,
   "id": "5afaf1a5",
   "metadata": {},
   "outputs": [],
   "source": [
    "xx=xx[xx.index.isin(yy.index)]\n",
    "yy=yy[yy.index.isin(xx.index)]"
   ]
  },
  {
   "cell_type": "code",
   "execution_count": 17,
   "id": "cac154ce",
   "metadata": {},
   "outputs": [
    {
     "data": {
      "text/plain": [
       "Text(0.5, 1.0, 'Scatter of Unemployment and DeathRate')"
      ]
     },
     "execution_count": 17,
     "metadata": {},
     "output_type": "execute_result"
    },
    {
     "data": {
      "image/png": "[encoded data removed]",
      "text/plain": [
       "<Figure size 432x288 with 1 Axes>"
      ]
     },
     "metadata": {
      "needs_background": "light"
     },
     "output_type": "display_data"
    }
   ],
   "source": [
    "sc2=plt.figure()\n",
    "plt.scatter(xx,yy)\n",
    "plt.xlabel('Unemployment rate%')\n",
    "plt.ylabel('Death rate')\n",
    "plt.title('Scatter of Unemployment and DeathRate')"
   ]
  },
  {
   "cell_type": "code",
   "execution_count": 18,
   "id": "62bfa934",
   "metadata": {},
   "outputs": [],
   "source": [
    "#Now to create new line of best fit\n",
    "mm,bb = np.polyfit(xx,yy,1)"
   ]
  },
  {
   "cell_type": "code",
   "execution_count": 19,
   "id": "0df77013",
   "metadata": {},
   "outputs": [
    {
     "data": {
      "text/plain": [
       "[<matplotlib.lines.Line2D at 0x1d843dee910>]"
      ]
     },
     "execution_count": 19,
     "metadata": {},
     "output_type": "execute_result"
    },
    {
     "data": {
      "image/png": "[encoded data removed]",
      "text/plain": [
       "<Figure size 432x288 with 1 Axes>"
      ]
     },
     "metadata": {
      "needs_background": "light"
     },
     "output_type": "display_data"
    }
   ],
   "source": [
    "plt.figure(sc2)\n",
    "plt.plot(xx,mm*xx.values+bb,color = 'red')"
   ]
  },
  {
   "cell_type": "code",
   "execution_count": 20,
   "id": "c1b41376",
   "metadata": {},
   "outputs": [
    {
     "data": {
      "text/plain": [
       "array([[ 1.        , -0.01732726],\n",
       "       [-0.01732726,  1.        ]])"
      ]
     },
     "execution_count": 20,
     "metadata": {},
     "output_type": "execute_result"
    }
   ],
   "source": [
    "np.corrcoef(xx,yy)"
   ]
  },
  {
   "cell_type": "markdown",
   "id": "65cab4f9",
   "metadata": {},
   "source": [
    "### Conclusion\n",
    "As can be seen from the new scatter plot and the correlation coeffcient, there is no indication that the unemployment rate has an effect on the death rate. To speculate, this could be due to factors such as goverment programs and saftey of countries that can affect the death rate in positive or negative ways that is independent of the unemployment rate."
   ]
  }
 ],
 "metadata": {
  "kernelspec": {
   "display_name": "Python 3 (ipykernel)",
   "language": "python",
   "name": "python3"
  },
  "language_info": {
   "codemirror_mode": {
    "name": "ipython",
    "version": 3
   },
   "file_extension": ".py",
   "mimetype": "text/x-python",
   "name": "python",
   "nbconvert_exporter": "python",
   "pygments_lexer": "ipython3",
   "version": "3.9.7"
  }
 },
 "nbformat": 4,
 "nbformat_minor": 5
}
